{
 "cells": [
  {
   "cell_type": "markdown",
   "metadata": {},
   "source": [
    "# Imports necessários"
   ]
  },
  {
   "cell_type": "code",
   "execution_count": 2,
   "metadata": {},
   "outputs": [],
   "source": [
    "#instaling libraries\n",
    "import matplotlib as mt\n",
    "import numpy as np \n",
    "import pandas as pd\n",
    "from pandas_profiling import ProfileReport"
   ]
  },
  {
   "cell_type": "markdown",
   "metadata": {},
   "source": [
    "# Mostrar datasets"
   ]
  },
  {
   "cell_type": "code",
   "execution_count": 4,
   "metadata": {},
   "outputs": [
    {
     "name": "stdout",
     "output_type": "stream",
     "text": [
      "          SK_ID_BUREAU  MONTHS_BALANCE STATUS\n",
      "0              5715448               0      C\n",
      "1              5715448              -1      C\n",
      "2              5715448              -2      C\n",
      "3              5715448              -3      C\n",
      "4              5715448              -4      C\n",
      "...                ...             ...    ...\n",
      "27299920       5041336             -47      X\n",
      "27299921       5041336             -48      X\n",
      "27299922       5041336             -49      X\n",
      "27299923       5041336             -50      X\n",
      "27299924       5041336             -51      X\n",
      "\n",
      "[27299925 rows x 3 columns]\n"
     ]
    }
   ],
   "source": [
    "#show dataset bureau_balance\n",
    "df_bureau_balance = pd.read_csv(\"../datasets/bureau_balance.csv\")\n",
    "print(df_bureau_balance)\n",
    "\n",
    "# df_bureau_balance.head()\n",
    "### mostrar estatisticas do dataframe\n",
    "# df_bureau_balance.describe()"
   ]
  },
  {
   "cell_type": "code",
   "execution_count": 3,
   "metadata": {},
   "outputs": [
    {
     "data": {
      "text/html": [
       "<div>\n",
       "<style scoped>\n",
       "    .dataframe tbody tr th:only-of-type {\n",
       "        vertical-align: middle;\n",
       "    }\n",
       "\n",
       "    .dataframe tbody tr th {\n",
       "        vertical-align: top;\n",
       "    }\n",
       "\n",
       "    .dataframe thead th {\n",
       "        text-align: right;\n",
       "    }\n",
       "</style>\n",
       "<table border=\"1\" class=\"dataframe\">\n",
       "  <thead>\n",
       "    <tr style=\"text-align: right;\">\n",
       "      <th></th>\n",
       "      <th>SK_ID_CURR</th>\n",
       "      <th>SK_ID_BUREAU</th>\n",
       "      <th>CREDIT_ACTIVE</th>\n",
       "      <th>CREDIT_CURRENCY</th>\n",
       "      <th>DAYS_CREDIT</th>\n",
       "      <th>CREDIT_DAY_OVERDUE</th>\n",
       "      <th>DAYS_CREDIT_ENDDATE</th>\n",
       "      <th>DAYS_ENDDATE_FACT</th>\n",
       "      <th>AMT_CREDIT_MAX_OVERDUE</th>\n",
       "      <th>CNT_CREDIT_PROLONG</th>\n",
       "      <th>AMT_CREDIT_SUM</th>\n",
       "      <th>AMT_CREDIT_SUM_DEBT</th>\n",
       "      <th>AMT_CREDIT_SUM_LIMIT</th>\n",
       "      <th>AMT_CREDIT_SUM_OVERDUE</th>\n",
       "      <th>CREDIT_TYPE</th>\n",
       "      <th>DAYS_CREDIT_UPDATE</th>\n",
       "      <th>AMT_ANNUITY</th>\n",
       "    </tr>\n",
       "  </thead>\n",
       "  <tbody>\n",
       "    <tr>\n",
       "      <th>0</th>\n",
       "      <td>215354</td>\n",
       "      <td>5714462</td>\n",
       "      <td>Closed</td>\n",
       "      <td>currency 1</td>\n",
       "      <td>-497</td>\n",
       "      <td>0</td>\n",
       "      <td>-153.0</td>\n",
       "      <td>-153.0</td>\n",
       "      <td>NaN</td>\n",
       "      <td>0</td>\n",
       "      <td>91323.0</td>\n",
       "      <td>0.0</td>\n",
       "      <td>NaN</td>\n",
       "      <td>0.0</td>\n",
       "      <td>Consumer credit</td>\n",
       "      <td>-131</td>\n",
       "      <td>NaN</td>\n",
       "    </tr>\n",
       "    <tr>\n",
       "      <th>1</th>\n",
       "      <td>215354</td>\n",
       "      <td>5714463</td>\n",
       "      <td>Active</td>\n",
       "      <td>currency 1</td>\n",
       "      <td>-208</td>\n",
       "      <td>0</td>\n",
       "      <td>1075.0</td>\n",
       "      <td>NaN</td>\n",
       "      <td>NaN</td>\n",
       "      <td>0</td>\n",
       "      <td>225000.0</td>\n",
       "      <td>171342.0</td>\n",
       "      <td>NaN</td>\n",
       "      <td>0.0</td>\n",
       "      <td>Credit card</td>\n",
       "      <td>-20</td>\n",
       "      <td>NaN</td>\n",
       "    </tr>\n",
       "    <tr>\n",
       "      <th>2</th>\n",
       "      <td>215354</td>\n",
       "      <td>5714464</td>\n",
       "      <td>Active</td>\n",
       "      <td>currency 1</td>\n",
       "      <td>-203</td>\n",
       "      <td>0</td>\n",
       "      <td>528.0</td>\n",
       "      <td>NaN</td>\n",
       "      <td>NaN</td>\n",
       "      <td>0</td>\n",
       "      <td>464323.5</td>\n",
       "      <td>NaN</td>\n",
       "      <td>NaN</td>\n",
       "      <td>0.0</td>\n",
       "      <td>Consumer credit</td>\n",
       "      <td>-16</td>\n",
       "      <td>NaN</td>\n",
       "    </tr>\n",
       "    <tr>\n",
       "      <th>3</th>\n",
       "      <td>215354</td>\n",
       "      <td>5714465</td>\n",
       "      <td>Active</td>\n",
       "      <td>currency 1</td>\n",
       "      <td>-203</td>\n",
       "      <td>0</td>\n",
       "      <td>NaN</td>\n",
       "      <td>NaN</td>\n",
       "      <td>NaN</td>\n",
       "      <td>0</td>\n",
       "      <td>90000.0</td>\n",
       "      <td>NaN</td>\n",
       "      <td>NaN</td>\n",
       "      <td>0.0</td>\n",
       "      <td>Credit card</td>\n",
       "      <td>-16</td>\n",
       "      <td>NaN</td>\n",
       "    </tr>\n",
       "    <tr>\n",
       "      <th>4</th>\n",
       "      <td>215354</td>\n",
       "      <td>5714466</td>\n",
       "      <td>Active</td>\n",
       "      <td>currency 1</td>\n",
       "      <td>-629</td>\n",
       "      <td>0</td>\n",
       "      <td>1197.0</td>\n",
       "      <td>NaN</td>\n",
       "      <td>77674.5</td>\n",
       "      <td>0</td>\n",
       "      <td>2700000.0</td>\n",
       "      <td>NaN</td>\n",
       "      <td>NaN</td>\n",
       "      <td>0.0</td>\n",
       "      <td>Consumer credit</td>\n",
       "      <td>-21</td>\n",
       "      <td>NaN</td>\n",
       "    </tr>\n",
       "  </tbody>\n",
       "</table>\n",
       "</div>"
      ],
      "text/plain": [
       "   SK_ID_CURR  SK_ID_BUREAU CREDIT_ACTIVE CREDIT_CURRENCY  DAYS_CREDIT  \\\n",
       "0      215354       5714462        Closed      currency 1         -497   \n",
       "1      215354       5714463        Active      currency 1         -208   \n",
       "2      215354       5714464        Active      currency 1         -203   \n",
       "3      215354       5714465        Active      currency 1         -203   \n",
       "4      215354       5714466        Active      currency 1         -629   \n",
       "\n",
       "   CREDIT_DAY_OVERDUE  DAYS_CREDIT_ENDDATE  DAYS_ENDDATE_FACT  \\\n",
       "0                   0               -153.0             -153.0   \n",
       "1                   0               1075.0                NaN   \n",
       "2                   0                528.0                NaN   \n",
       "3                   0                  NaN                NaN   \n",
       "4                   0               1197.0                NaN   \n",
       "\n",
       "   AMT_CREDIT_MAX_OVERDUE  CNT_CREDIT_PROLONG  AMT_CREDIT_SUM  \\\n",
       "0                     NaN                   0         91323.0   \n",
       "1                     NaN                   0        225000.0   \n",
       "2                     NaN                   0        464323.5   \n",
       "3                     NaN                   0         90000.0   \n",
       "4                 77674.5                   0       2700000.0   \n",
       "\n",
       "   AMT_CREDIT_SUM_DEBT  AMT_CREDIT_SUM_LIMIT  AMT_CREDIT_SUM_OVERDUE  \\\n",
       "0                  0.0                   NaN                     0.0   \n",
       "1             171342.0                   NaN                     0.0   \n",
       "2                  NaN                   NaN                     0.0   \n",
       "3                  NaN                   NaN                     0.0   \n",
       "4                  NaN                   NaN                     0.0   \n",
       "\n",
       "       CREDIT_TYPE  DAYS_CREDIT_UPDATE  AMT_ANNUITY  \n",
       "0  Consumer credit                -131          NaN  \n",
       "1      Credit card                 -20          NaN  \n",
       "2  Consumer credit                 -16          NaN  \n",
       "3      Credit card                 -16          NaN  \n",
       "4  Consumer credit                 -21          NaN  "
      ]
     },
     "execution_count": 3,
     "metadata": {},
     "output_type": "execute_result"
    }
   ],
   "source": [
    "#show dataset bureau\n",
    "df_bureau = pd.read_csv(\"../datasets/bureau.csv\")\n",
    "#print(df_bureau)\n",
    "df_bureau.head()"
   ]
  },
  {
   "cell_type": "markdown",
   "metadata": {},
   "source": [
    "# Indice de correlação"
   ]
  },
  {
   "cell_type": "code",
   "execution_count": 6,
   "metadata": {},
   "outputs": [
    {
     "name": "stdout",
     "output_type": "stream",
     "text": [
      "                SK_ID_BUREAU  MONTHS_BALANCE\n",
      "SK_ID_BUREAU        1.000000        0.011873\n",
      "MONTHS_BALANCE      0.011873        1.000000\n"
     ]
    }
   ],
   "source": [
    "# selecao de atributos por correlação - Spearman\n",
    "## quanto mais prox de 1 - mais aumenta consoante outro (positivo ou negativo)\n",
    "## direta ou iversamente proporcional\n",
    "\n",
    "print(df_bureau_balance.corr()) # pearson, kendall, spearman"
   ]
  },
  {
   "cell_type": "markdown",
   "metadata": {},
   "source": [
    "# Joins "
   ]
  },
  {
   "cell_type": "code",
   "execution_count": 6,
   "metadata": {},
   "outputs": [],
   "source": [
    "#join dos datasets \n",
    "df_first_join = pd.merge(df_bureau,df_bureau_balance,on='SK_ID_BUREAU', how='inner')\n",
    "df_first_join.head()\n",
    "\n",
    "# add line to save final dataframe in a dataset on /datasets/transformed/first_join\n",
    "# saving the dataframe\n",
    "df_first_join.to_csv(\"../datasets/transformed_datasets/first_join.csv\")\n"
   ]
  },
  {
   "cell_type": "markdown",
   "metadata": {},
   "source": [
    "# Data quality \n",
    "Apresentar gráficos pandas profiling"
   ]
  },
  {
   "cell_type": "code",
   "execution_count": 16,
   "metadata": {},
   "outputs": [
    {
     "data": {
      "application/vnd.jupyter.widget-view+json": {
       "model_id": "f4b80fb974e2454081bf83c16d592a0e",
       "version_major": 2,
       "version_minor": 0
      },
      "text/plain": [
       "Summarize dataset:   0%|          | 0/19 [00:00<?, ?it/s]"
      ]
     },
     "metadata": {},
     "output_type": "display_data"
    },
    {
     "ename": "BrokenProcessPool",
     "evalue": "A task has failed to un-serialize. Please ensure that the arguments of the function are all picklable.",
     "output_type": "error",
     "traceback": [
      "\u001b[1;31m---------------------------------------------------------------------------\u001b[0m",
      "\u001b[1;31m_RemoteTraceback\u001b[0m                          Traceback (most recent call last)",
      "\u001b[1;31m_RemoteTraceback\u001b[0m: \n\"\"\"\nTraceback (most recent call last):\n  File \"c:\\Users\\onlymr\\anaconda3\\lib\\site-packages\\joblib\\externals\\loky\\process_executor.py\", line 407, in _process_worker\n    call_item = call_queue.get(block=True, timeout=timeout)\n  File \"c:\\Users\\onlymr\\anaconda3\\lib\\multiprocessing\\queues.py\", line 122, in get\n    return _ForkingPickler.loads(res)\nAttributeError: Can't get attribute '_unpickle_block' on <module 'pandas._libs.internals' from 'c:\\\\Users\\\\onlymr\\\\anaconda3\\\\lib\\\\site-packages\\\\pandas\\\\_libs\\\\internals.cp39-win_amd64.pyd'>\n\"\"\"",
      "\nThe above exception was the direct cause of the following exception:\n",
      "\u001b[1;31mBrokenProcessPool\u001b[0m                         Traceback (most recent call last)",
      "\u001b[1;32m~\\AppData\\Local\\Temp\\ipykernel_46328\\3254489719.py\u001b[0m in \u001b[0;36m<module>\u001b[1;34m\u001b[0m\n\u001b[0;32m      4\u001b[0m \u001b[0mdf\u001b[0m \u001b[1;33m=\u001b[0m \u001b[0mpd\u001b[0m\u001b[1;33m.\u001b[0m\u001b[0mDataFrame\u001b[0m\u001b[1;33m(\u001b[0m\u001b[0mnp\u001b[0m\u001b[1;33m.\u001b[0m\u001b[0mrandom\u001b[0m\u001b[1;33m.\u001b[0m\u001b[0mrand\u001b[0m\u001b[1;33m(\u001b[0m\u001b[1;36m100\u001b[0m\u001b[1;33m,\u001b[0m \u001b[1;36m5\u001b[0m\u001b[1;33m)\u001b[0m\u001b[1;33m,\u001b[0m \u001b[0mcolumns\u001b[0m\u001b[1;33m=\u001b[0m\u001b[1;33m[\u001b[0m\u001b[1;34m\"a\"\u001b[0m\u001b[1;33m,\u001b[0m \u001b[1;34m\"b\"\u001b[0m\u001b[1;33m,\u001b[0m \u001b[1;34m\"c\"\u001b[0m\u001b[1;33m,\u001b[0m \u001b[1;34m\"d\"\u001b[0m\u001b[1;33m,\u001b[0m \u001b[1;34m\"e\"\u001b[0m\u001b[1;33m]\u001b[0m\u001b[1;33m)\u001b[0m\u001b[1;33m\u001b[0m\u001b[1;33m\u001b[0m\u001b[0m\n\u001b[0;32m      5\u001b[0m \u001b[0mprofile\u001b[0m \u001b[1;33m=\u001b[0m \u001b[0mProfileReport\u001b[0m\u001b[1;33m(\u001b[0m\u001b[0mdf\u001b[0m\u001b[1;33m,\u001b[0m \u001b[0mtitle\u001b[0m\u001b[1;33m=\u001b[0m\u001b[1;34m\"Pandas Profiling Report\"\u001b[0m\u001b[1;33m)\u001b[0m\u001b[1;33m\u001b[0m\u001b[1;33m\u001b[0m\u001b[0m\n\u001b[1;32m----> 6\u001b[1;33m \u001b[0mprofile\u001b[0m\u001b[1;33m.\u001b[0m\u001b[0mto_widgets\u001b[0m\u001b[1;33m(\u001b[0m\u001b[1;33m)\u001b[0m\u001b[1;33m\u001b[0m\u001b[1;33m\u001b[0m\u001b[0m\n\u001b[0m\u001b[0;32m      7\u001b[0m \u001b[1;31m##profile.to_notebook_iframe()\u001b[0m\u001b[1;33m\u001b[0m\u001b[1;33m\u001b[0m\u001b[0m\n",
      "\u001b[1;32mc:\\Users\\onlymr\\anaconda3\\lib\\site-packages\\pandas_profiling\\profile_report.py\u001b[0m in \u001b[0;36mto_widgets\u001b[1;34m(self)\u001b[0m\n\u001b[0;32m    403\u001b[0m         \u001b[1;32mfrom\u001b[0m \u001b[0mIPython\u001b[0m\u001b[1;33m.\u001b[0m\u001b[0mcore\u001b[0m\u001b[1;33m.\u001b[0m\u001b[0mdisplay\u001b[0m \u001b[1;32mimport\u001b[0m \u001b[0mdisplay\u001b[0m\u001b[1;33m\u001b[0m\u001b[1;33m\u001b[0m\u001b[0m\n\u001b[0;32m    404\u001b[0m \u001b[1;33m\u001b[0m\u001b[0m\n\u001b[1;32m--> 405\u001b[1;33m         \u001b[0mdisplay\u001b[0m\u001b[1;33m(\u001b[0m\u001b[0mself\u001b[0m\u001b[1;33m.\u001b[0m\u001b[0mwidgets\u001b[0m\u001b[1;33m)\u001b[0m\u001b[1;33m\u001b[0m\u001b[1;33m\u001b[0m\u001b[0m\n\u001b[0m\u001b[0;32m    406\u001b[0m \u001b[1;33m\u001b[0m\u001b[0m\n\u001b[0;32m    407\u001b[0m     \u001b[1;32mdef\u001b[0m \u001b[0m_repr_html_\u001b[0m\u001b[1;33m(\u001b[0m\u001b[0mself\u001b[0m\u001b[1;33m)\u001b[0m\u001b[1;33m:\u001b[0m\u001b[1;33m\u001b[0m\u001b[1;33m\u001b[0m\u001b[0m\n",
      "\u001b[1;32mc:\\Users\\onlymr\\anaconda3\\lib\\site-packages\\pandas_profiling\\profile_report.py\u001b[0m in \u001b[0;36mwidgets\u001b[1;34m(self)\u001b[0m\n\u001b[0;32m    189\u001b[0m     \u001b[1;32mdef\u001b[0m \u001b[0mwidgets\u001b[0m\u001b[1;33m(\u001b[0m\u001b[0mself\u001b[0m\u001b[1;33m)\u001b[0m\u001b[1;33m:\u001b[0m\u001b[1;33m\u001b[0m\u001b[1;33m\u001b[0m\u001b[0m\n\u001b[0;32m    190\u001b[0m         \u001b[1;32mif\u001b[0m \u001b[0mself\u001b[0m\u001b[1;33m.\u001b[0m\u001b[0m_widgets\u001b[0m \u001b[1;32mis\u001b[0m \u001b[1;32mNone\u001b[0m\u001b[1;33m:\u001b[0m\u001b[1;33m\u001b[0m\u001b[1;33m\u001b[0m\u001b[0m\n\u001b[1;32m--> 191\u001b[1;33m             \u001b[0mself\u001b[0m\u001b[1;33m.\u001b[0m\u001b[0m_widgets\u001b[0m \u001b[1;33m=\u001b[0m \u001b[0mself\u001b[0m\u001b[1;33m.\u001b[0m\u001b[0m_render_widgets\u001b[0m\u001b[1;33m(\u001b[0m\u001b[1;33m)\u001b[0m\u001b[1;33m\u001b[0m\u001b[1;33m\u001b[0m\u001b[0m\n\u001b[0m\u001b[0;32m    192\u001b[0m         \u001b[1;32mreturn\u001b[0m \u001b[0mself\u001b[0m\u001b[1;33m.\u001b[0m\u001b[0m_widgets\u001b[0m\u001b[1;33m\u001b[0m\u001b[1;33m\u001b[0m\u001b[0m\n\u001b[0;32m    193\u001b[0m \u001b[1;33m\u001b[0m\u001b[0m\n",
      "\u001b[1;32mc:\\Users\\onlymr\\anaconda3\\lib\\site-packages\\pandas_profiling\\profile_report.py\u001b[0m in \u001b[0;36m_render_widgets\u001b[1;34m(self)\u001b[0m\n\u001b[0;32m    312\u001b[0m         \u001b[1;32mfrom\u001b[0m \u001b[0mpandas_profiling\u001b[0m\u001b[1;33m.\u001b[0m\u001b[0mreport\u001b[0m\u001b[1;33m.\u001b[0m\u001b[0mpresentation\u001b[0m\u001b[1;33m.\u001b[0m\u001b[0mflavours\u001b[0m \u001b[1;32mimport\u001b[0m \u001b[0mWidgetReport\u001b[0m\u001b[1;33m\u001b[0m\u001b[1;33m\u001b[0m\u001b[0m\n\u001b[0;32m    313\u001b[0m \u001b[1;33m\u001b[0m\u001b[0m\n\u001b[1;32m--> 314\u001b[1;33m         \u001b[0mreport\u001b[0m \u001b[1;33m=\u001b[0m \u001b[0mself\u001b[0m\u001b[1;33m.\u001b[0m\u001b[0mreport\u001b[0m\u001b[1;33m\u001b[0m\u001b[1;33m\u001b[0m\u001b[0m\n\u001b[0m\u001b[0;32m    315\u001b[0m \u001b[1;33m\u001b[0m\u001b[0m\n\u001b[0;32m    316\u001b[0m         \u001b[0mdisable_progress_bar\u001b[0m \u001b[1;33m=\u001b[0m \u001b[1;32mnot\u001b[0m \u001b[0mconfig\u001b[0m\u001b[1;33m[\u001b[0m\u001b[1;34m\"progress_bar\"\u001b[0m\u001b[1;33m]\u001b[0m\u001b[1;33m.\u001b[0m\u001b[0mget\u001b[0m\u001b[1;33m(\u001b[0m\u001b[0mbool\u001b[0m\u001b[1;33m)\u001b[0m\u001b[1;33m\u001b[0m\u001b[1;33m\u001b[0m\u001b[0m\n",
      "\u001b[1;32mc:\\Users\\onlymr\\anaconda3\\lib\\site-packages\\pandas_profiling\\profile_report.py\u001b[0m in \u001b[0;36mreport\u001b[1;34m(self)\u001b[0m\n\u001b[0;32m    171\u001b[0m     \u001b[1;32mdef\u001b[0m \u001b[0mreport\u001b[0m\u001b[1;33m(\u001b[0m\u001b[0mself\u001b[0m\u001b[1;33m)\u001b[0m\u001b[1;33m:\u001b[0m\u001b[1;33m\u001b[0m\u001b[1;33m\u001b[0m\u001b[0m\n\u001b[0;32m    172\u001b[0m         \u001b[1;32mif\u001b[0m \u001b[0mself\u001b[0m\u001b[1;33m.\u001b[0m\u001b[0m_report\u001b[0m \u001b[1;32mis\u001b[0m \u001b[1;32mNone\u001b[0m\u001b[1;33m:\u001b[0m\u001b[1;33m\u001b[0m\u001b[1;33m\u001b[0m\u001b[0m\n\u001b[1;32m--> 173\u001b[1;33m             \u001b[0mself\u001b[0m\u001b[1;33m.\u001b[0m\u001b[0m_report\u001b[0m \u001b[1;33m=\u001b[0m \u001b[0mget_report_structure\u001b[0m\u001b[1;33m(\u001b[0m\u001b[0mself\u001b[0m\u001b[1;33m.\u001b[0m\u001b[0mdescription_set\u001b[0m\u001b[1;33m)\u001b[0m\u001b[1;33m\u001b[0m\u001b[1;33m\u001b[0m\u001b[0m\n\u001b[0m\u001b[0;32m    174\u001b[0m         \u001b[1;32mreturn\u001b[0m \u001b[0mself\u001b[0m\u001b[1;33m.\u001b[0m\u001b[0m_report\u001b[0m\u001b[1;33m\u001b[0m\u001b[1;33m\u001b[0m\u001b[0m\n\u001b[0;32m    175\u001b[0m \u001b[1;33m\u001b[0m\u001b[0m\n",
      "\u001b[1;32mc:\\Users\\onlymr\\anaconda3\\lib\\site-packages\\pandas_profiling\\profile_report.py\u001b[0m in \u001b[0;36mdescription_set\u001b[1;34m(self)\u001b[0m\n\u001b[0;32m    152\u001b[0m     \u001b[1;32mdef\u001b[0m \u001b[0mdescription_set\u001b[0m\u001b[1;33m(\u001b[0m\u001b[0mself\u001b[0m\u001b[1;33m)\u001b[0m\u001b[1;33m:\u001b[0m\u001b[1;33m\u001b[0m\u001b[1;33m\u001b[0m\u001b[0m\n\u001b[0;32m    153\u001b[0m         \u001b[1;32mif\u001b[0m \u001b[0mself\u001b[0m\u001b[1;33m.\u001b[0m\u001b[0m_description_set\u001b[0m \u001b[1;32mis\u001b[0m \u001b[1;32mNone\u001b[0m\u001b[1;33m:\u001b[0m\u001b[1;33m\u001b[0m\u001b[1;33m\u001b[0m\u001b[0m\n\u001b[1;32m--> 154\u001b[1;33m             \u001b[0mself\u001b[0m\u001b[1;33m.\u001b[0m\u001b[0m_description_set\u001b[0m \u001b[1;33m=\u001b[0m \u001b[0mdescribe_df\u001b[0m\u001b[1;33m(\u001b[0m\u001b[0mself\u001b[0m\u001b[1;33m.\u001b[0m\u001b[0mtitle\u001b[0m\u001b[1;33m,\u001b[0m \u001b[0mself\u001b[0m\u001b[1;33m.\u001b[0m\u001b[0mdf\u001b[0m\u001b[1;33m,\u001b[0m \u001b[0mself\u001b[0m\u001b[1;33m.\u001b[0m\u001b[0m_sample\u001b[0m\u001b[1;33m)\u001b[0m\u001b[1;33m\u001b[0m\u001b[1;33m\u001b[0m\u001b[0m\n\u001b[0m\u001b[0;32m    155\u001b[0m         \u001b[1;32mreturn\u001b[0m \u001b[0mself\u001b[0m\u001b[1;33m.\u001b[0m\u001b[0m_description_set\u001b[0m\u001b[1;33m\u001b[0m\u001b[1;33m\u001b[0m\u001b[0m\n\u001b[0;32m    156\u001b[0m \u001b[1;33m\u001b[0m\u001b[0m\n",
      "\u001b[1;32mc:\\Users\\onlymr\\anaconda3\\lib\\site-packages\\pandas_profiling\\model\\describe.py\u001b[0m in \u001b[0;36mdescribe\u001b[1;34m(title, df, sample)\u001b[0m\n\u001b[0;32m     88\u001b[0m         \u001b[1;32mfor\u001b[0m \u001b[0mcorrelation_name\u001b[0m \u001b[1;32min\u001b[0m \u001b[0mcorrelation_names\u001b[0m\u001b[1;33m:\u001b[0m\u001b[1;33m\u001b[0m\u001b[1;33m\u001b[0m\u001b[0m\n\u001b[0;32m     89\u001b[0m             \u001b[0mpbar\u001b[0m\u001b[1;33m.\u001b[0m\u001b[0mset_postfix_str\u001b[0m\u001b[1;33m(\u001b[0m\u001b[1;34mf\"Calculate {correlation_name} correlation\"\u001b[0m\u001b[1;33m)\u001b[0m\u001b[1;33m\u001b[0m\u001b[1;33m\u001b[0m\u001b[0m\n\u001b[1;32m---> 90\u001b[1;33m             correlations[correlation_name] = calculate_correlation(\n\u001b[0m\u001b[0;32m     91\u001b[0m                 \u001b[0mdf\u001b[0m\u001b[1;33m,\u001b[0m \u001b[0mvariables\u001b[0m\u001b[1;33m,\u001b[0m \u001b[0mcorrelation_name\u001b[0m\u001b[1;33m\u001b[0m\u001b[1;33m\u001b[0m\u001b[0m\n\u001b[0;32m     92\u001b[0m             )\n",
      "\u001b[1;32mc:\\Users\\onlymr\\anaconda3\\lib\\site-packages\\pandas_profiling\\model\\correlations.py\u001b[0m in \u001b[0;36mcalculate_correlation\u001b[1;34m(df, variables, correlation_name)\u001b[0m\n\u001b[0;32m    166\u001b[0m             \u001b[1;32mif\u001b[0m \u001b[0mlen\u001b[0m\u001b[1;33m(\u001b[0m\u001b[0mselcols\u001b[0m\u001b[1;33m)\u001b[0m \u001b[1;33m>\u001b[0m \u001b[1;36m1\u001b[0m\u001b[1;33m:\u001b[0m\u001b[1;33m\u001b[0m\u001b[1;33m\u001b[0m\u001b[0m\n\u001b[0;32m    167\u001b[0m                 \u001b[1;32mtry\u001b[0m\u001b[1;33m:\u001b[0m\u001b[1;33m\u001b[0m\u001b[1;33m\u001b[0m\u001b[0m\n\u001b[1;32m--> 168\u001b[1;33m                     \u001b[0mcorrelation\u001b[0m \u001b[1;33m=\u001b[0m \u001b[0mdf\u001b[0m\u001b[1;33m[\u001b[0m\u001b[0mselcols\u001b[0m\u001b[1;33m]\u001b[0m\u001b[1;33m.\u001b[0m\u001b[0mphik_matrix\u001b[0m\u001b[1;33m(\u001b[0m\u001b[0minterval_cols\u001b[0m\u001b[1;33m=\u001b[0m\u001b[0mintcols\u001b[0m\u001b[1;33m)\u001b[0m\u001b[1;33m\u001b[0m\u001b[1;33m\u001b[0m\u001b[0m\n\u001b[0m\u001b[0;32m    169\u001b[0m \u001b[1;33m\u001b[0m\u001b[0m\n\u001b[0;32m    170\u001b[0m                     \u001b[1;31m# Only do this if the column_order is set\u001b[0m\u001b[1;33m\u001b[0m\u001b[1;33m\u001b[0m\u001b[0m\n",
      "\u001b[1;32mc:\\Users\\onlymr\\anaconda3\\lib\\site-packages\\phik\\phik.py\u001b[0m in \u001b[0;36mphik_matrix\u001b[1;34m(df, interval_cols, bins, quantile, noise_correction, dropna, drop_underflow, drop_overflow, verbose)\u001b[0m\n\u001b[0;32m    216\u001b[0m     \u001b[0mdata_binned\u001b[0m\u001b[1;33m,\u001b[0m \u001b[0mbinning_dict\u001b[0m \u001b[1;33m=\u001b[0m \u001b[0mbin_data\u001b[0m\u001b[1;33m(\u001b[0m\u001b[0mdf_clean\u001b[0m\u001b[1;33m,\u001b[0m \u001b[0mcols\u001b[0m\u001b[1;33m=\u001b[0m\u001b[0minterval_cols_clean\u001b[0m\u001b[1;33m,\u001b[0m \u001b[0mbins\u001b[0m\u001b[1;33m=\u001b[0m\u001b[0mbins\u001b[0m\u001b[1;33m,\u001b[0m \u001b[0mquantile\u001b[0m\u001b[1;33m=\u001b[0m\u001b[0mquantile\u001b[0m\u001b[1;33m,\u001b[0m \u001b[0mretbins\u001b[0m\u001b[1;33m=\u001b[0m\u001b[1;32mTrue\u001b[0m\u001b[1;33m)\u001b[0m\u001b[1;33m\u001b[0m\u001b[1;33m\u001b[0m\u001b[0m\n\u001b[0;32m    217\u001b[0m \u001b[1;33m\u001b[0m\u001b[0m\n\u001b[1;32m--> 218\u001b[1;33m     return phik_from_rebinned_df(\n\u001b[0m\u001b[0;32m    219\u001b[0m         \u001b[0mdata_binned\u001b[0m\u001b[1;33m,\u001b[0m \u001b[0mnoise_correction\u001b[0m\u001b[1;33m,\u001b[0m \u001b[0mdropna\u001b[0m\u001b[1;33m=\u001b[0m\u001b[0mdropna\u001b[0m\u001b[1;33m,\u001b[0m \u001b[0mdrop_underflow\u001b[0m\u001b[1;33m=\u001b[0m\u001b[0mdrop_underflow\u001b[0m\u001b[1;33m,\u001b[0m \u001b[0mdrop_overflow\u001b[0m\u001b[1;33m=\u001b[0m\u001b[0mdrop_overflow\u001b[0m\u001b[1;33m\u001b[0m\u001b[1;33m\u001b[0m\u001b[0m\n\u001b[0;32m    220\u001b[0m     )\n",
      "\u001b[1;32mc:\\Users\\onlymr\\anaconda3\\lib\\site-packages\\phik\\phik.py\u001b[0m in \u001b[0;36mphik_from_rebinned_df\u001b[1;34m(data_binned, noise_correction, dropna, drop_underflow, drop_overflow)\u001b[0m\n\u001b[0;32m    141\u001b[0m         ]\n\u001b[0;32m    142\u001b[0m     \u001b[1;32melse\u001b[0m\u001b[1;33m:\u001b[0m\u001b[1;33m\u001b[0m\u001b[1;33m\u001b[0m\u001b[0m\n\u001b[1;32m--> 143\u001b[1;33m         phik_list = Parallel(n_jobs=NCORES)(\n\u001b[0m\u001b[0;32m    144\u001b[0m             \u001b[0mdelayed\u001b[0m\u001b[1;33m(\u001b[0m\u001b[0m_calc_phik\u001b[0m\u001b[1;33m)\u001b[0m\u001b[1;33m(\u001b[0m\u001b[0mco\u001b[0m\u001b[1;33m,\u001b[0m \u001b[0mdata_binned\u001b[0m\u001b[1;33m[\u001b[0m\u001b[0mlist\u001b[0m\u001b[1;33m(\u001b[0m\u001b[0mco\u001b[0m\u001b[1;33m)\u001b[0m\u001b[1;33m]\u001b[0m\u001b[1;33m,\u001b[0m \u001b[0mnoise_correction\u001b[0m\u001b[1;33m)\u001b[0m\u001b[1;33m\u001b[0m\u001b[1;33m\u001b[0m\u001b[0m\n\u001b[0;32m    145\u001b[0m             \u001b[1;32mfor\u001b[0m \u001b[0mco\u001b[0m \u001b[1;32min\u001b[0m \u001b[0mitertools\u001b[0m\u001b[1;33m.\u001b[0m\u001b[0mcombinations_with_replacement\u001b[0m\u001b[1;33m(\u001b[0m\u001b[0mdata_binned\u001b[0m\u001b[1;33m.\u001b[0m\u001b[0mcolumns\u001b[0m\u001b[1;33m.\u001b[0m\u001b[0mvalues\u001b[0m\u001b[1;33m,\u001b[0m \u001b[1;36m2\u001b[0m\u001b[1;33m)\u001b[0m\u001b[1;33m\u001b[0m\u001b[1;33m\u001b[0m\u001b[0m\n",
      "\u001b[1;32mc:\\Users\\onlymr\\anaconda3\\lib\\site-packages\\joblib\\parallel.py\u001b[0m in \u001b[0;36m__call__\u001b[1;34m(self, iterable)\u001b[0m\n\u001b[0;32m   1054\u001b[0m \u001b[1;33m\u001b[0m\u001b[0m\n\u001b[0;32m   1055\u001b[0m             \u001b[1;32mwith\u001b[0m \u001b[0mself\u001b[0m\u001b[1;33m.\u001b[0m\u001b[0m_backend\u001b[0m\u001b[1;33m.\u001b[0m\u001b[0mretrieval_context\u001b[0m\u001b[1;33m(\u001b[0m\u001b[1;33m)\u001b[0m\u001b[1;33m:\u001b[0m\u001b[1;33m\u001b[0m\u001b[1;33m\u001b[0m\u001b[0m\n\u001b[1;32m-> 1056\u001b[1;33m                 \u001b[0mself\u001b[0m\u001b[1;33m.\u001b[0m\u001b[0mretrieve\u001b[0m\u001b[1;33m(\u001b[0m\u001b[1;33m)\u001b[0m\u001b[1;33m\u001b[0m\u001b[1;33m\u001b[0m\u001b[0m\n\u001b[0m\u001b[0;32m   1057\u001b[0m             \u001b[1;31m# Make sure that we get a last message telling us we are done\u001b[0m\u001b[1;33m\u001b[0m\u001b[1;33m\u001b[0m\u001b[0m\n\u001b[0;32m   1058\u001b[0m             \u001b[0melapsed_time\u001b[0m \u001b[1;33m=\u001b[0m \u001b[0mtime\u001b[0m\u001b[1;33m.\u001b[0m\u001b[0mtime\u001b[0m\u001b[1;33m(\u001b[0m\u001b[1;33m)\u001b[0m \u001b[1;33m-\u001b[0m \u001b[0mself\u001b[0m\u001b[1;33m.\u001b[0m\u001b[0m_start_time\u001b[0m\u001b[1;33m\u001b[0m\u001b[1;33m\u001b[0m\u001b[0m\n",
      "\u001b[1;32mc:\\Users\\onlymr\\anaconda3\\lib\\site-packages\\joblib\\parallel.py\u001b[0m in \u001b[0;36mretrieve\u001b[1;34m(self)\u001b[0m\n\u001b[0;32m    933\u001b[0m             \u001b[1;32mtry\u001b[0m\u001b[1;33m:\u001b[0m\u001b[1;33m\u001b[0m\u001b[1;33m\u001b[0m\u001b[0m\n\u001b[0;32m    934\u001b[0m                 \u001b[1;32mif\u001b[0m \u001b[0mgetattr\u001b[0m\u001b[1;33m(\u001b[0m\u001b[0mself\u001b[0m\u001b[1;33m.\u001b[0m\u001b[0m_backend\u001b[0m\u001b[1;33m,\u001b[0m \u001b[1;34m'supports_timeout'\u001b[0m\u001b[1;33m,\u001b[0m \u001b[1;32mFalse\u001b[0m\u001b[1;33m)\u001b[0m\u001b[1;33m:\u001b[0m\u001b[1;33m\u001b[0m\u001b[1;33m\u001b[0m\u001b[0m\n\u001b[1;32m--> 935\u001b[1;33m                     \u001b[0mself\u001b[0m\u001b[1;33m.\u001b[0m\u001b[0m_output\u001b[0m\u001b[1;33m.\u001b[0m\u001b[0mextend\u001b[0m\u001b[1;33m(\u001b[0m\u001b[0mjob\u001b[0m\u001b[1;33m.\u001b[0m\u001b[0mget\u001b[0m\u001b[1;33m(\u001b[0m\u001b[0mtimeout\u001b[0m\u001b[1;33m=\u001b[0m\u001b[0mself\u001b[0m\u001b[1;33m.\u001b[0m\u001b[0mtimeout\u001b[0m\u001b[1;33m)\u001b[0m\u001b[1;33m)\u001b[0m\u001b[1;33m\u001b[0m\u001b[1;33m\u001b[0m\u001b[0m\n\u001b[0m\u001b[0;32m    936\u001b[0m                 \u001b[1;32melse\u001b[0m\u001b[1;33m:\u001b[0m\u001b[1;33m\u001b[0m\u001b[1;33m\u001b[0m\u001b[0m\n\u001b[0;32m    937\u001b[0m                     \u001b[0mself\u001b[0m\u001b[1;33m.\u001b[0m\u001b[0m_output\u001b[0m\u001b[1;33m.\u001b[0m\u001b[0mextend\u001b[0m\u001b[1;33m(\u001b[0m\u001b[0mjob\u001b[0m\u001b[1;33m.\u001b[0m\u001b[0mget\u001b[0m\u001b[1;33m(\u001b[0m\u001b[1;33m)\u001b[0m\u001b[1;33m)\u001b[0m\u001b[1;33m\u001b[0m\u001b[1;33m\u001b[0m\u001b[0m\n",
      "\u001b[1;32mc:\\Users\\onlymr\\anaconda3\\lib\\site-packages\\joblib\\_parallel_backends.py\u001b[0m in \u001b[0;36mwrap_future_result\u001b[1;34m(future, timeout)\u001b[0m\n\u001b[0;32m    540\u001b[0m         AsyncResults.get from multiprocessing.\"\"\"\n\u001b[0;32m    541\u001b[0m         \u001b[1;32mtry\u001b[0m\u001b[1;33m:\u001b[0m\u001b[1;33m\u001b[0m\u001b[1;33m\u001b[0m\u001b[0m\n\u001b[1;32m--> 542\u001b[1;33m             \u001b[1;32mreturn\u001b[0m \u001b[0mfuture\u001b[0m\u001b[1;33m.\u001b[0m\u001b[0mresult\u001b[0m\u001b[1;33m(\u001b[0m\u001b[0mtimeout\u001b[0m\u001b[1;33m=\u001b[0m\u001b[0mtimeout\u001b[0m\u001b[1;33m)\u001b[0m\u001b[1;33m\u001b[0m\u001b[1;33m\u001b[0m\u001b[0m\n\u001b[0m\u001b[0;32m    543\u001b[0m         \u001b[1;32mexcept\u001b[0m \u001b[0mCfTimeoutError\u001b[0m \u001b[1;32mas\u001b[0m \u001b[0me\u001b[0m\u001b[1;33m:\u001b[0m\u001b[1;33m\u001b[0m\u001b[1;33m\u001b[0m\u001b[0m\n\u001b[0;32m    544\u001b[0m             \u001b[1;32mraise\u001b[0m \u001b[0mTimeoutError\u001b[0m \u001b[1;32mfrom\u001b[0m \u001b[0me\u001b[0m\u001b[1;33m\u001b[0m\u001b[1;33m\u001b[0m\u001b[0m\n",
      "\u001b[1;32mc:\\Users\\onlymr\\anaconda3\\lib\\concurrent\\futures\\_base.py\u001b[0m in \u001b[0;36mresult\u001b[1;34m(self, timeout)\u001b[0m\n\u001b[0;32m    444\u001b[0m                     \u001b[1;32mraise\u001b[0m \u001b[0mCancelledError\u001b[0m\u001b[1;33m(\u001b[0m\u001b[1;33m)\u001b[0m\u001b[1;33m\u001b[0m\u001b[1;33m\u001b[0m\u001b[0m\n\u001b[0;32m    445\u001b[0m                 \u001b[1;32melif\u001b[0m \u001b[0mself\u001b[0m\u001b[1;33m.\u001b[0m\u001b[0m_state\u001b[0m \u001b[1;33m==\u001b[0m \u001b[0mFINISHED\u001b[0m\u001b[1;33m:\u001b[0m\u001b[1;33m\u001b[0m\u001b[1;33m\u001b[0m\u001b[0m\n\u001b[1;32m--> 446\u001b[1;33m                     \u001b[1;32mreturn\u001b[0m \u001b[0mself\u001b[0m\u001b[1;33m.\u001b[0m\u001b[0m__get_result\u001b[0m\u001b[1;33m(\u001b[0m\u001b[1;33m)\u001b[0m\u001b[1;33m\u001b[0m\u001b[1;33m\u001b[0m\u001b[0m\n\u001b[0m\u001b[0;32m    447\u001b[0m                 \u001b[1;32melse\u001b[0m\u001b[1;33m:\u001b[0m\u001b[1;33m\u001b[0m\u001b[1;33m\u001b[0m\u001b[0m\n\u001b[0;32m    448\u001b[0m                     \u001b[1;32mraise\u001b[0m \u001b[0mTimeoutError\u001b[0m\u001b[1;33m(\u001b[0m\u001b[1;33m)\u001b[0m\u001b[1;33m\u001b[0m\u001b[1;33m\u001b[0m\u001b[0m\n",
      "\u001b[1;32mc:\\Users\\onlymr\\anaconda3\\lib\\concurrent\\futures\\_base.py\u001b[0m in \u001b[0;36m__get_result\u001b[1;34m(self)\u001b[0m\n\u001b[0;32m    389\u001b[0m         \u001b[1;32mif\u001b[0m \u001b[0mself\u001b[0m\u001b[1;33m.\u001b[0m\u001b[0m_exception\u001b[0m\u001b[1;33m:\u001b[0m\u001b[1;33m\u001b[0m\u001b[1;33m\u001b[0m\u001b[0m\n\u001b[0;32m    390\u001b[0m             \u001b[1;32mtry\u001b[0m\u001b[1;33m:\u001b[0m\u001b[1;33m\u001b[0m\u001b[1;33m\u001b[0m\u001b[0m\n\u001b[1;32m--> 391\u001b[1;33m                 \u001b[1;32mraise\u001b[0m \u001b[0mself\u001b[0m\u001b[1;33m.\u001b[0m\u001b[0m_exception\u001b[0m\u001b[1;33m\u001b[0m\u001b[1;33m\u001b[0m\u001b[0m\n\u001b[0m\u001b[0;32m    392\u001b[0m             \u001b[1;32mfinally\u001b[0m\u001b[1;33m:\u001b[0m\u001b[1;33m\u001b[0m\u001b[1;33m\u001b[0m\u001b[0m\n\u001b[0;32m    393\u001b[0m                 \u001b[1;31m# Break a reference cycle with the exception in self._exception\u001b[0m\u001b[1;33m\u001b[0m\u001b[1;33m\u001b[0m\u001b[0m\n",
      "\u001b[1;31mBrokenProcessPool\u001b[0m: A task has failed to un-serialize. Please ensure that the arguments of the function are all picklable."
     ]
    }
   ],
   "source": [
    "# data quality using pandas profiling\n",
    "## criar o perfil \n",
    "profile = ProfileReport(df_bureau, title=\"Pandas Profiling Report\")\n",
    "profile.to_widgets()\n",
    "##profile.to_notebook_iframe()"
   ]
  },
  {
   "cell_type": "markdown",
   "metadata": {},
   "source": [
    "# Exemplo de uso Autoviz "
   ]
  },
  {
   "cell_type": "code",
   "execution_count": 8,
   "metadata": {},
   "outputs": [],
   "source": [
    "## Exemplo de uso Autoviz\n",
    "from sklearn.datasets import load_boston,load_iris\n",
    "from autoviz.AutoViz_Class import AutoViz_Class  #Instantiate the AutoViz class\n",
    "\n",
    "boston = load_boston()\n",
    "df_boston = pd.DataFrame(data=boston.data, columns=boston.feature_names)\n",
    "df_boston[\"btarget\"] = boston.target"
   ]
  },
  {
   "cell_type": "code",
   "execution_count": 7,
   "metadata": {},
   "outputs": [
    {
     "name": "stdout",
     "output_type": "stream",
     "text": [
      "Shape of your Data Set loaded: (506, 14)\n",
      "#######################################################################################\n",
      "######################## C L A S S I F Y I N G  V A R I A B L E S  ####################\n",
      "#######################################################################################\n",
      "Classifying variables in data set...\n",
      "Data cleaning improvement suggestions. Complete them before proceeding to ML modeling.\n"
     ]
    },
    {
     "data": {
      "text/html": [
       "<style  type=\"text/css\" >\n",
       "#T_2d69b_row0_col0,#T_2d69b_row0_col4{\n",
       "            background-color:  #67000d;\n",
       "            color:  #f1f1f1;\n",
       "            font-family:  Segoe UI;\n",
       "        }#T_2d69b_row0_col1,#T_2d69b_row0_col6,#T_2d69b_row1_col1,#T_2d69b_row1_col6,#T_2d69b_row2_col1,#T_2d69b_row2_col6,#T_2d69b_row3_col1,#T_2d69b_row3_col6,#T_2d69b_row4_col1,#T_2d69b_row4_col6,#T_2d69b_row5_col1,#T_2d69b_row5_col6,#T_2d69b_row6_col1,#T_2d69b_row6_col6,#T_2d69b_row7_col1,#T_2d69b_row7_col6,#T_2d69b_row8_col1,#T_2d69b_row8_col6,#T_2d69b_row9_col1,#T_2d69b_row9_col6,#T_2d69b_row10_col1,#T_2d69b_row10_col6,#T_2d69b_row11_col1,#T_2d69b_row11_col6,#T_2d69b_row12_col1,#T_2d69b_row12_col6{\n",
       "            font-family:  Segoe UI;\n",
       "        }#T_2d69b_row0_col2,#T_2d69b_row0_col3,#T_2d69b_row0_col5,#T_2d69b_row1_col2,#T_2d69b_row1_col3,#T_2d69b_row1_col5,#T_2d69b_row2_col2,#T_2d69b_row2_col3,#T_2d69b_row2_col5,#T_2d69b_row3_col2,#T_2d69b_row3_col3,#T_2d69b_row3_col5,#T_2d69b_row4_col2,#T_2d69b_row4_col3,#T_2d69b_row4_col5,#T_2d69b_row5_col2,#T_2d69b_row5_col3,#T_2d69b_row5_col5,#T_2d69b_row6_col2,#T_2d69b_row6_col3,#T_2d69b_row6_col5,#T_2d69b_row7_col2,#T_2d69b_row7_col3,#T_2d69b_row7_col5,#T_2d69b_row8_col2,#T_2d69b_row8_col3,#T_2d69b_row8_col5,#T_2d69b_row9_col2,#T_2d69b_row9_col3,#T_2d69b_row9_col5,#T_2d69b_row10_col2,#T_2d69b_row10_col3,#T_2d69b_row10_col5,#T_2d69b_row11_col2,#T_2d69b_row11_col3,#T_2d69b_row11_col5,#T_2d69b_row12_col0,#T_2d69b_row12_col2,#T_2d69b_row12_col3,#T_2d69b_row12_col4,#T_2d69b_row12_col5{\n",
       "            background-color:  #fff5f0;\n",
       "            color:  #000000;\n",
       "            font-family:  Segoe UI;\n",
       "        }#T_2d69b_row1_col0,#T_2d69b_row1_col4{\n",
       "            background-color:  #960b13;\n",
       "            color:  #f1f1f1;\n",
       "            font-family:  Segoe UI;\n",
       "        }#T_2d69b_row2_col0,#T_2d69b_row2_col4{\n",
       "            background-color:  #9f0e14;\n",
       "            color:  #f1f1f1;\n",
       "            font-family:  Segoe UI;\n",
       "        }#T_2d69b_row3_col0,#T_2d69b_row3_col4{\n",
       "            background-color:  #b61319;\n",
       "            color:  #f1f1f1;\n",
       "            font-family:  Segoe UI;\n",
       "        }#T_2d69b_row4_col0,#T_2d69b_row4_col4{\n",
       "            background-color:  #d72322;\n",
       "            color:  #f1f1f1;\n",
       "            font-family:  Segoe UI;\n",
       "        }#T_2d69b_row5_col0,#T_2d69b_row5_col4{\n",
       "            background-color:  #d82422;\n",
       "            color:  #f1f1f1;\n",
       "            font-family:  Segoe UI;\n",
       "        }#T_2d69b_row6_col0,#T_2d69b_row6_col4{\n",
       "            background-color:  #fdd7c6;\n",
       "            color:  #000000;\n",
       "            font-family:  Segoe UI;\n",
       "        }#T_2d69b_row7_col0,#T_2d69b_row7_col4{\n",
       "            background-color:  #fedaca;\n",
       "            color:  #000000;\n",
       "            font-family:  Segoe UI;\n",
       "        }#T_2d69b_row8_col0,#T_2d69b_row8_col4{\n",
       "            background-color:  #fee0d2;\n",
       "            color:  #000000;\n",
       "            font-family:  Segoe UI;\n",
       "        }#T_2d69b_row9_col0,#T_2d69b_row9_col4{\n",
       "            background-color:  #fee7db;\n",
       "            color:  #000000;\n",
       "            font-family:  Segoe UI;\n",
       "        }#T_2d69b_row10_col0,#T_2d69b_row10_col4{\n",
       "            background-color:  #ffede5;\n",
       "            color:  #000000;\n",
       "            font-family:  Segoe UI;\n",
       "        }#T_2d69b_row11_col0,#T_2d69b_row11_col4{\n",
       "            background-color:  #fff3ed;\n",
       "            color:  #000000;\n",
       "            font-family:  Segoe UI;\n",
       "        }</style><table id=\"T_2d69b_\" ><thead>    <tr>        <th class=\"blank level0\" ></th>        <th class=\"col_heading level0 col0\" >Nuniques</th>        <th class=\"col_heading level0 col1\" >dtype</th>        <th class=\"col_heading level0 col2\" >Nulls</th>        <th class=\"col_heading level0 col3\" >Nullpercent</th>        <th class=\"col_heading level0 col4\" >NuniquePercent</th>        <th class=\"col_heading level0 col5\" >Value counts Min</th>        <th class=\"col_heading level0 col6\" >Data cleaning improvement suggestions</th>    </tr></thead><tbody>\n",
       "                <tr>\n",
       "                        <th id=\"T_2d69b_level0_row0\" class=\"row_heading level0 row0\" >CRIM</th>\n",
       "                        <td id=\"T_2d69b_row0_col0\" class=\"data row0 col0\" >504</td>\n",
       "                        <td id=\"T_2d69b_row0_col1\" class=\"data row0 col1\" >float64</td>\n",
       "                        <td id=\"T_2d69b_row0_col2\" class=\"data row0 col2\" >0</td>\n",
       "                        <td id=\"T_2d69b_row0_col3\" class=\"data row0 col3\" >0.000000</td>\n",
       "                        <td id=\"T_2d69b_row0_col4\" class=\"data row0 col4\" >99.604743</td>\n",
       "                        <td id=\"T_2d69b_row0_col5\" class=\"data row0 col5\" >0</td>\n",
       "                        <td id=\"T_2d69b_row0_col6\" class=\"data row0 col6\" >highly skewed: drop outliers or do box-cox transform</td>\n",
       "            </tr>\n",
       "            <tr>\n",
       "                        <th id=\"T_2d69b_level0_row1\" class=\"row_heading level0 row1\" >LSTAT</th>\n",
       "                        <td id=\"T_2d69b_row1_col0\" class=\"data row1 col0\" >455</td>\n",
       "                        <td id=\"T_2d69b_row1_col1\" class=\"data row1 col1\" >float64</td>\n",
       "                        <td id=\"T_2d69b_row1_col2\" class=\"data row1 col2\" >0</td>\n",
       "                        <td id=\"T_2d69b_row1_col3\" class=\"data row1 col3\" >0.000000</td>\n",
       "                        <td id=\"T_2d69b_row1_col4\" class=\"data row1 col4\" >89.920949</td>\n",
       "                        <td id=\"T_2d69b_row1_col5\" class=\"data row1 col5\" >0</td>\n",
       "                        <td id=\"T_2d69b_row1_col6\" class=\"data row1 col6\" ></td>\n",
       "            </tr>\n",
       "            <tr>\n",
       "                        <th id=\"T_2d69b_level0_row2\" class=\"row_heading level0 row2\" >RM</th>\n",
       "                        <td id=\"T_2d69b_row2_col0\" class=\"data row2 col0\" >446</td>\n",
       "                        <td id=\"T_2d69b_row2_col1\" class=\"data row2 col1\" >float64</td>\n",
       "                        <td id=\"T_2d69b_row2_col2\" class=\"data row2 col2\" >0</td>\n",
       "                        <td id=\"T_2d69b_row2_col3\" class=\"data row2 col3\" >0.000000</td>\n",
       "                        <td id=\"T_2d69b_row2_col4\" class=\"data row2 col4\" >88.142292</td>\n",
       "                        <td id=\"T_2d69b_row2_col5\" class=\"data row2 col5\" >0</td>\n",
       "                        <td id=\"T_2d69b_row2_col6\" class=\"data row2 col6\" ></td>\n",
       "            </tr>\n",
       "            <tr>\n",
       "                        <th id=\"T_2d69b_level0_row3\" class=\"row_heading level0 row3\" >DIS</th>\n",
       "                        <td id=\"T_2d69b_row3_col0\" class=\"data row3 col0\" >412</td>\n",
       "                        <td id=\"T_2d69b_row3_col1\" class=\"data row3 col1\" >float64</td>\n",
       "                        <td id=\"T_2d69b_row3_col2\" class=\"data row3 col2\" >0</td>\n",
       "                        <td id=\"T_2d69b_row3_col3\" class=\"data row3 col3\" >0.000000</td>\n",
       "                        <td id=\"T_2d69b_row3_col4\" class=\"data row3 col4\" >81.422925</td>\n",
       "                        <td id=\"T_2d69b_row3_col5\" class=\"data row3 col5\" >0</td>\n",
       "                        <td id=\"T_2d69b_row3_col6\" class=\"data row3 col6\" ></td>\n",
       "            </tr>\n",
       "            <tr>\n",
       "                        <th id=\"T_2d69b_level0_row4\" class=\"row_heading level0 row4\" >B</th>\n",
       "                        <td id=\"T_2d69b_row4_col0\" class=\"data row4 col0\" >357</td>\n",
       "                        <td id=\"T_2d69b_row4_col1\" class=\"data row4 col1\" >float64</td>\n",
       "                        <td id=\"T_2d69b_row4_col2\" class=\"data row4 col2\" >0</td>\n",
       "                        <td id=\"T_2d69b_row4_col3\" class=\"data row4 col3\" >0.000000</td>\n",
       "                        <td id=\"T_2d69b_row4_col4\" class=\"data row4 col4\" >70.553360</td>\n",
       "                        <td id=\"T_2d69b_row4_col5\" class=\"data row4 col5\" >0</td>\n",
       "                        <td id=\"T_2d69b_row4_col6\" class=\"data row4 col6\" >skewed: cap or drop outliers</td>\n",
       "            </tr>\n",
       "            <tr>\n",
       "                        <th id=\"T_2d69b_level0_row5\" class=\"row_heading level0 row5\" >AGE</th>\n",
       "                        <td id=\"T_2d69b_row5_col0\" class=\"data row5 col0\" >356</td>\n",
       "                        <td id=\"T_2d69b_row5_col1\" class=\"data row5 col1\" >float64</td>\n",
       "                        <td id=\"T_2d69b_row5_col2\" class=\"data row5 col2\" >0</td>\n",
       "                        <td id=\"T_2d69b_row5_col3\" class=\"data row5 col3\" >0.000000</td>\n",
       "                        <td id=\"T_2d69b_row5_col4\" class=\"data row5 col4\" >70.355731</td>\n",
       "                        <td id=\"T_2d69b_row5_col5\" class=\"data row5 col5\" >0</td>\n",
       "                        <td id=\"T_2d69b_row5_col6\" class=\"data row5 col6\" ></td>\n",
       "            </tr>\n",
       "            <tr>\n",
       "                        <th id=\"T_2d69b_level0_row6\" class=\"row_heading level0 row6\" >NOX</th>\n",
       "                        <td id=\"T_2d69b_row6_col0\" class=\"data row6 col0\" >81</td>\n",
       "                        <td id=\"T_2d69b_row6_col1\" class=\"data row6 col1\" >float64</td>\n",
       "                        <td id=\"T_2d69b_row6_col2\" class=\"data row6 col2\" >0</td>\n",
       "                        <td id=\"T_2d69b_row6_col3\" class=\"data row6 col3\" >0.000000</td>\n",
       "                        <td id=\"T_2d69b_row6_col4\" class=\"data row6 col4\" >16.007905</td>\n",
       "                        <td id=\"T_2d69b_row6_col5\" class=\"data row6 col5\" >0</td>\n",
       "                        <td id=\"T_2d69b_row6_col6\" class=\"data row6 col6\" ></td>\n",
       "            </tr>\n",
       "            <tr>\n",
       "                        <th id=\"T_2d69b_level0_row7\" class=\"row_heading level0 row7\" >INDUS</th>\n",
       "                        <td id=\"T_2d69b_row7_col0\" class=\"data row7 col0\" >76</td>\n",
       "                        <td id=\"T_2d69b_row7_col1\" class=\"data row7 col1\" >float64</td>\n",
       "                        <td id=\"T_2d69b_row7_col2\" class=\"data row7 col2\" >0</td>\n",
       "                        <td id=\"T_2d69b_row7_col3\" class=\"data row7 col3\" >0.000000</td>\n",
       "                        <td id=\"T_2d69b_row7_col4\" class=\"data row7 col4\" >15.019763</td>\n",
       "                        <td id=\"T_2d69b_row7_col5\" class=\"data row7 col5\" >0</td>\n",
       "                        <td id=\"T_2d69b_row7_col6\" class=\"data row7 col6\" ></td>\n",
       "            </tr>\n",
       "            <tr>\n",
       "                        <th id=\"T_2d69b_level0_row8\" class=\"row_heading level0 row8\" >TAX</th>\n",
       "                        <td id=\"T_2d69b_row8_col0\" class=\"data row8 col0\" >66</td>\n",
       "                        <td id=\"T_2d69b_row8_col1\" class=\"data row8 col1\" >float64</td>\n",
       "                        <td id=\"T_2d69b_row8_col2\" class=\"data row8 col2\" >0</td>\n",
       "                        <td id=\"T_2d69b_row8_col3\" class=\"data row8 col3\" >0.000000</td>\n",
       "                        <td id=\"T_2d69b_row8_col4\" class=\"data row8 col4\" >13.043478</td>\n",
       "                        <td id=\"T_2d69b_row8_col5\" class=\"data row8 col5\" >0</td>\n",
       "                        <td id=\"T_2d69b_row8_col6\" class=\"data row8 col6\" ></td>\n",
       "            </tr>\n",
       "            <tr>\n",
       "                        <th id=\"T_2d69b_level0_row9\" class=\"row_heading level0 row9\" >PTRATIO</th>\n",
       "                        <td id=\"T_2d69b_row9_col0\" class=\"data row9 col0\" >46</td>\n",
       "                        <td id=\"T_2d69b_row9_col1\" class=\"data row9 col1\" >float64</td>\n",
       "                        <td id=\"T_2d69b_row9_col2\" class=\"data row9 col2\" >0</td>\n",
       "                        <td id=\"T_2d69b_row9_col3\" class=\"data row9 col3\" >0.000000</td>\n",
       "                        <td id=\"T_2d69b_row9_col4\" class=\"data row9 col4\" >9.090909</td>\n",
       "                        <td id=\"T_2d69b_row9_col5\" class=\"data row9 col5\" >0</td>\n",
       "                        <td id=\"T_2d69b_row9_col6\" class=\"data row9 col6\" ></td>\n",
       "            </tr>\n",
       "            <tr>\n",
       "                        <th id=\"T_2d69b_level0_row10\" class=\"row_heading level0 row10\" >ZN</th>\n",
       "                        <td id=\"T_2d69b_row10_col0\" class=\"data row10 col0\" >26</td>\n",
       "                        <td id=\"T_2d69b_row10_col1\" class=\"data row10 col1\" >float64</td>\n",
       "                        <td id=\"T_2d69b_row10_col2\" class=\"data row10 col2\" >0</td>\n",
       "                        <td id=\"T_2d69b_row10_col3\" class=\"data row10 col3\" >0.000000</td>\n",
       "                        <td id=\"T_2d69b_row10_col4\" class=\"data row10 col4\" >5.138340</td>\n",
       "                        <td id=\"T_2d69b_row10_col5\" class=\"data row10 col5\" >0</td>\n",
       "                        <td id=\"T_2d69b_row10_col6\" class=\"data row10 col6\" >skewed: cap or drop outliers</td>\n",
       "            </tr>\n",
       "            <tr>\n",
       "                        <th id=\"T_2d69b_level0_row11\" class=\"row_heading level0 row11\" >RAD</th>\n",
       "                        <td id=\"T_2d69b_row11_col0\" class=\"data row11 col0\" >9</td>\n",
       "                        <td id=\"T_2d69b_row11_col1\" class=\"data row11 col1\" >float64</td>\n",
       "                        <td id=\"T_2d69b_row11_col2\" class=\"data row11 col2\" >0</td>\n",
       "                        <td id=\"T_2d69b_row11_col3\" class=\"data row11 col3\" >0.000000</td>\n",
       "                        <td id=\"T_2d69b_row11_col4\" class=\"data row11 col4\" >1.778656</td>\n",
       "                        <td id=\"T_2d69b_row11_col5\" class=\"data row11 col5\" >0</td>\n",
       "                        <td id=\"T_2d69b_row11_col6\" class=\"data row11 col6\" ></td>\n",
       "            </tr>\n",
       "            <tr>\n",
       "                        <th id=\"T_2d69b_level0_row12\" class=\"row_heading level0 row12\" >CHAS</th>\n",
       "                        <td id=\"T_2d69b_row12_col0\" class=\"data row12 col0\" >2</td>\n",
       "                        <td id=\"T_2d69b_row12_col1\" class=\"data row12 col1\" >float64</td>\n",
       "                        <td id=\"T_2d69b_row12_col2\" class=\"data row12 col2\" >0</td>\n",
       "                        <td id=\"T_2d69b_row12_col3\" class=\"data row12 col3\" >0.000000</td>\n",
       "                        <td id=\"T_2d69b_row12_col4\" class=\"data row12 col4\" >0.395257</td>\n",
       "                        <td id=\"T_2d69b_row12_col5\" class=\"data row12 col5\" >0</td>\n",
       "                        <td id=\"T_2d69b_row12_col6\" class=\"data row12 col6\" >skewed: cap or drop outliers</td>\n",
       "            </tr>\n",
       "    </tbody></table>"
      ],
      "text/plain": [
       "<pandas.io.formats.style.Styler at 0x1e7c2827910>"
      ]
     },
     "metadata": {},
     "output_type": "display_data"
    },
    {
     "name": "stdout",
     "output_type": "stream",
     "text": [
      "  Printing upto 30 columns max in each category:\n",
      "    Numeric Columns : ['CRIM', 'ZN', 'INDUS', 'NOX', 'RM', 'AGE', 'DIS', 'TAX', 'PTRATIO', 'B', 'LSTAT', 'RAD']\n",
      "    Integer-Categorical Columns: []\n",
      "    String-Categorical Columns: []\n",
      "    Factor-Categorical Columns: []\n",
      "    String-Boolean Columns: []\n",
      "    Numeric-Boolean Columns: ['CHAS']\n",
      "    Discrete String Columns: []\n",
      "    NLP text Columns: []\n",
      "    Date Time Columns: []\n",
      "    ID Columns: []\n",
      "    Columns that will not be considered in modeling: []\n",
      "    13 Predictors classified...\n",
      "        No variables removed since no ID or low-information variables found in data set\n",
      "\n",
      "################ Regression problem #####################\n",
      "   Columns to delete:\n",
      "'   []'\n",
      "   Boolean variables %s \n",
      "\"   ['CHAS']\"\n",
      "   Categorical variables %s \n",
      "\"   ['CHAS']\"\n",
      "   Continuous variables %s \n",
      "(\"   ['CRIM', 'ZN', 'INDUS', 'NOX', 'RM', 'AGE', 'DIS', 'TAX', 'PTRATIO', 'B', \"\n",
      " \"'LSTAT', 'RAD']\")\n",
      "   Discrete string variables %s \n",
      "'   []'\n",
      "   Date and time variables %s \n",
      "'   []'\n",
      "   ID variables %s \n",
      "'   []'\n",
      "   Target variable %s \n",
      "'   btarget'\n",
      "Number of All Scatter Plots = 78\n",
      "No categorical or numeric vars in data set. Hence no bar charts.\n",
      "All Plots are saved in .\\AutoViz_Plots\\btarget\n",
      "Time to run AutoViz = 15 seconds \n"
     ]
    }
   ],
   "source": [
    "## \n",
    "AV = AutoViz_Class()\n",
    "filename = \"\"\n",
    "sep = \",\"\n",
    "dft = AV.AutoViz(\n",
    "    filename,\n",
    "    sep=\",\",\n",
    "    depVar=\"btarget\",\n",
    "    dfte=df_boston,\n",
    "    header=0,\n",
    "    verbose=2,\n",
    "    lowess=False,\n",
    "    chart_format=\"svg\",\n",
    "    max_rows_analyzed=150000,\n",
    "    max_cols_analyzed=30,\n",
    ")"
   ]
  },
  {
   "cell_type": "markdown",
   "metadata": {},
   "source": [
    "# Exemplo de uso profiling"
   ]
  },
  {
   "cell_type": "code",
   "execution_count": 10,
   "metadata": {},
   "outputs": [
    {
     "data": {
      "application/vnd.jupyter.widget-view+json": {
       "model_id": "9b487c4bae284bfdb69cdf8d45050e98",
       "version_major": 2,
       "version_minor": 0
      },
      "text/plain": [
       "Summarize dataset:   0%|          | 0/28 [00:00<?, ?it/s]"
      ]
     },
     "metadata": {},
     "output_type": "display_data"
    },
    {
     "data": {
      "application/vnd.jupyter.widget-view+json": {
       "model_id": "6ba9ad2c4a8b474e97e2812f75674710",
       "version_major": 2,
       "version_minor": 0
      },
      "text/plain": [
       "Generate report structure:   0%|          | 0/1 [00:00<?, ?it/s]"
      ]
     },
     "metadata": {},
     "output_type": "display_data"
    },
    {
     "data": {
      "application/vnd.jupyter.widget-view+json": {
       "model_id": "55efc0fc16ab4c8d95f4e658d29c5a8f",
       "version_major": 2,
       "version_minor": 0
      },
      "text/plain": [
       "Render widgets:   0%|          | 0/1 [00:00<?, ?it/s]"
      ]
     },
     "metadata": {},
     "output_type": "display_data"
    },
    {
     "data": {
      "application/vnd.jupyter.widget-view+json": {
       "model_id": "f0d7d09ffbf74ad4a388081ce1e0bf41",
       "version_major": 2,
       "version_minor": 0
      },
      "text/plain": [
       "VBox(children=(Tab(children=(Tab(children=(GridBox(children=(VBox(children=(GridspecLayout(children=(HTML(valu…"
      ]
     },
     "metadata": {},
     "output_type": "display_data"
    }
   ],
   "source": [
    "profile = ProfileReport(df_boston, title=\"Pandas Profiling Report\")\n",
    "profile.to_widgets()"
   ]
  },
  {
   "cell_type": "markdown",
   "metadata": {},
   "source": [
    "# Imports para Autoviz"
   ]
  },
  {
   "cell_type": "code",
   "execution_count": 32,
   "metadata": {},
   "outputs": [],
   "source": [
    "#importing Autoviz class\n",
    "#!pip install autoviz\n",
    "from autoviz.AutoViz_Class import AutoViz_Class  #Instantiate the AutoViz class\n",
    "AV = AutoViz_Class()"
   ]
  },
  {
   "cell_type": "markdown",
   "metadata": {},
   "source": [
    "# Vizualizar gráfico Autoviz"
   ]
  },
  {
   "cell_type": "code",
   "execution_count": 11,
   "metadata": {},
   "outputs": [
    {
     "name": "stdout",
     "output_type": "stream",
     "text": [
      "    max_rows_analyzed is smaller than dataset shape 1716428...\n",
      "        randomly sampled 2000 rows from read CSV file\n",
      "Shape of your Data Set loaded: (2000, 17)\n",
      "#######################################################################################\n",
      "######################## C L A S S I F Y I N G  V A R I A B L E S  ####################\n",
      "#######################################################################################\n",
      "Classifying variables in data set...\n",
      "    Number of Numeric Columns =  8\n",
      "    Number of Integer-Categorical Columns =  5\n",
      "    Number of String-Categorical Columns =  2\n",
      "    Number of Factor-Categorical Columns =  0\n",
      "    Number of String-Boolean Columns =  1\n",
      "    Number of Numeric-Boolean Columns =  0\n",
      "    Number of Discrete String Columns =  0\n",
      "    Number of NLP String Columns =  0\n",
      "    Number of Date Time Columns =  0\n",
      "    Number of ID Columns =  1\n",
      "    Number of Columns to Delete =  0\n",
      "    17 Predictors classified...\n",
      "        1 variables removed since they were ID or low-information variables\n",
      "Since Number of Rows in data 2000 exceeds maximum, randomly sampling 2000 rows for EDA...\n",
      "Number of All Scatter Plots = 36\n",
      "Could not draw Distribution Plot\n",
      "All Plots done\n",
      "Time to run AutoViz = 9 seconds \n",
      "\n",
      " ###################### AUTO VISUALIZATION Completed ########################\n"
     ]
    }
   ],
   "source": [
    "## vizualizar gráfico\n",
    "filename = ('../datasets/bureau.csv')\n",
    "sep = \",\"\n",
    "dft = AV.AutoViz(\n",
    "    filename,\n",
    "    sep=\",\",\n",
    "    depVar=\"\",\n",
    "    dfte=None,\n",
    "    header=0,\n",
    "    verbose=0,\n",
    "    lowess=False,\n",
    "    chart_format=\"svg\",\n",
    "    max_rows_analyzed=2000,\n",
    "    max_cols_analyzed=20,\n",
    ")"
   ]
  }
 ],
 "metadata": {
  "kernelspec": {
   "display_name": "Python 3 (ipykernel)",
   "language": "python",
   "name": "python3"
  },
  "language_info": {
   "codemirror_mode": {
    "name": "ipython",
    "version": 3
   },
   "file_extension": ".py",
   "mimetype": "text/x-python",
   "name": "python",
   "nbconvert_exporter": "python",
   "pygments_lexer": "ipython3",
   "version": "3.9.13"
  },
  "vscode": {
   "interpreter": {
    "hash": "fc32d947b5ce98707cb78a7a7c862139748b98b9fb77fa34e12356d9bb0a1afd"
   }
  }
 },
 "nbformat": 4,
 "nbformat_minor": 2
}
